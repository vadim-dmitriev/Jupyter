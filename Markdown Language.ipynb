{
 "cells": [
  {
   "cell_type": "markdown",
   "metadata": {},
   "source": [
    "# Примеры использования языка Markdown\n",
    "![Проблемы с соединением](https://raw.githubusercontent.com/github/explore/6c6508f34230f0ac0d49e847a326429eefbfc030/topics/markdown/markdown.png \"Markdown\")  \n",
    "Подробный туториал на сайте [GitHub.com](https://help.github.com/articles/basic-writing-and-formatting-syntax/)"
   ]
  },
  {
   "cell_type": "markdown",
   "metadata": {},
   "source": [
    "## Примеры оформления текстов\n",
    "\n",
    "*Курсив*  \n",
    "**Жирный**  \n",
    "***Жирный курсив***  \n",
    "~~Перечеркнутый текст~~  \n",
    "> Выделенный текст\n",
    "\n",
    "Для `выделения` части текста используй \\` \\`   \n",
    "Для выделения части кода используй \n",
    "```python \n",
    "print(a)\n",
    "```"
   ]
  },
  {
   "cell_type": "markdown",
   "metadata": {},
   "source": [
    "## Список любимых фильмов\n",
    "\n",
    "1. Криминальное чтиво, реж. **Тарантино**\n",
    "1. Унесенные ветом, реж. **Хайао Миадзаки**\n",
    "1. Одиннадцать друзей Оушена, реж. **Стивен Спилберг**"
   ]
  },
  {
   "cell_type": "markdown",
   "metadata": {},
   "source": [
    "## Использование формул **LATEX**\n",
    "\n",
    "$$ \\sum_{i=1}^n{a^2}=0 $$\n",
    "Формула Дмитриева: $\\int\\limits_0^\\infty{f(x)\\,\\mathrm{d}x} $"
   ]
  }
 ],
 "metadata": {
  "kernelspec": {
   "display_name": "Python 3",
   "language": "python",
   "name": "python3"
  },
  "language_info": {
   "codemirror_mode": {
    "name": "ipython",
    "version": 3
   },
   "file_extension": ".py",
   "mimetype": "text/x-python",
   "name": "python",
   "nbconvert_exporter": "python",
   "pygments_lexer": "ipython3",
   "version": "3.6.3"
  }
 },
 "nbformat": 4,
 "nbformat_minor": 2
}

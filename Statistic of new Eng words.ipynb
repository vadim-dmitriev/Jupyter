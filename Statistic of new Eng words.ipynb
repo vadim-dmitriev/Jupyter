{
 "cells": [
  {
   "cell_type": "markdown",
   "metadata": {},
   "source": [
    "# Статистика количества новых английских слов в день"
   ]
  },
  {
   "cell_type": "markdown",
   "metadata": {},
   "source": [
    "Начало исследования - **24 февраля 2018г**  \n",
    "\n",
    "В качестве структуры языка Python3 был выбран словарь ***stat***. В качестве ключа записывается дата в формате **DD.MM.YY**. \n",
    "\n",
    "Для добавления новых записей в словарь достаточно обратиться к следующему по порядке ключу:\n",
    "```python\n",
    "stat[2] = 6\n",
    "```"
   ]
  },
  {
   "cell_type": "code",
   "execution_count": 1,
   "metadata": {},
   "outputs": [],
   "source": [
    "stat = {\"24.02.18\": 5}"
   ]
  },
  {
   "cell_type": "code",
   "execution_count": 2,
   "metadata": {},
   "outputs": [],
   "source": [
    "stat[\"25.02.18\"] = 0"
   ]
  },
  {
   "cell_type": "code",
   "execution_count": 3,
   "metadata": {},
   "outputs": [],
   "source": [
    "#-------------NEW DATA--------------#\n",
    "stat[\"26.02.18\"] = 0\n",
    "stat[\"27.02.18\"] = 11\n",
    "stat[\"28.02.18\"] = 0\n",
    "stat[\"1.03.18\"] = 0\n",
    "stat[\"2.03.18\"] = 1\n",
    "\n"
   ]
  },
  {
   "cell_type": "code",
   "execution_count": 4,
   "metadata": {},
   "outputs": [
    {
     "name": "stdout",
     "output_type": "stream",
     "text": [
      "{'24.02.18': 5, '25.02.18': 0, '26.02.18': 0, '27.02.18': 11, '28.02.18': 0, '1.03.18': 0, '2.03.18': 1}\n"
     ]
    }
   ],
   "source": [
    "print(stat)"
   ]
  },
  {
   "cell_type": "code",
   "execution_count": null,
   "metadata": {},
   "outputs": [],
   "source": []
  }
 ],
 "metadata": {
  "kernelspec": {
   "display_name": "Python 3",
   "language": "python",
   "name": "python3"
  },
  "language_info": {
   "codemirror_mode": {
    "name": "ipython",
    "version": 3
   },
   "file_extension": ".py",
   "mimetype": "text/x-python",
   "name": "python",
   "nbconvert_exporter": "python",
   "pygments_lexer": "ipython3",
   "version": "3.6.3"
  }
 },
 "nbformat": 4,
 "nbformat_minor": 2
}

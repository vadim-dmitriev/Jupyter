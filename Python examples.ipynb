{
 "cells": [
  {
   "cell_type": "markdown",
   "metadata": {},
   "source": [
    "## Преобразование из двоичной в десятичную с/с\n",
    "\n",
    "### $A_{10} = 6$  \n",
    "### $A_{2} = 0110$  \n",
    "### $A_{10} = a_3\\cdot p^3 + a_2\\cdot p^2 + a_1\\cdot p^1 + a_0\\cdot p^0,\\,где\\,p\\,-\\,основание\\,с/с$   \n",
    "### $A_{10} = 0\\cdot2^3 + 1\\cdot2^2 + 1\\cdot2^1 + 0\\cdot2^0 = 0 + 4 + 2 + 0 = 6$  "
   ]
  },
  {
   "cell_type": "code",
   "execution_count": 2,
   "metadata": {},
   "outputs": [],
   "source": [
    "def binary_to_decimal(binary):\n",
    "    \"\"\"\n",
    "    This function converts binary number into decimal.\n",
    "    Arguments:\n",
    "    binary - int or str object.\n",
    "    Output:\n",
    "    int object.\n",
    "    \"\"\"\n",
    "    binary = str(binary)\n",
    "    size = len(binary)\n",
    "    i = 0\n",
    "    a_10 = 0\n",
    "    for bit in binary:\n",
    "        i += 1\n",
    "        a_10 += int(bit)*(2**(size-i))\n",
    "    return str(a_10)"
   ]
  },
  {
   "cell_type": "code",
   "execution_count": 3,
   "metadata": {},
   "outputs": [
    {
     "name": "stdout",
     "output_type": "stream",
     "text": [
      "7\n"
     ]
    }
   ],
   "source": [
    "print(binary_to_decimal(\"0111\"))"
   ]
  },
  {
   "cell_type": "markdown",
   "metadata": {},
   "source": [
    "# Преобразование из десятичной в двоичную с/с\n",
    "\n",
    "![Нет соединения](http://images.myshared.ru/4/72549/slide_1.jpg)\n",
    "### $A_{10} = 6$\n",
    "6/2 = 3(ост 0)\n",
    "3/2 = 1(ост 1)\n",
    "110"
   ]
  },
  {
   "cell_type": "code",
   "execution_count": 49,
   "metadata": {},
   "outputs": [],
   "source": [
    "def rewerse(word):\n",
    "    size = len(word)\n",
    "    i = 1\n",
    "    drow = \"\"\n",
    "    while i <= size:\n",
    "        drow = drow + word[size-i]\n",
    "        i = i + 1\n",
    "    return drow\n",
    "\n",
    "\n",
    "def decimal_to_binary(decimal):\n",
    "    size = len(decimal)\n",
    "    decimal = int(decimal)\n",
    "    s = \"\"\n",
    "    i = 0\n",
    "    while i <= 7:\n",
    "        s = s + str((decimal%2))\n",
    "        decimal = decimal//2\n",
    "        i = i + 1\n",
    "    return rewerse(s)"
   ]
  },
  {
   "cell_type": "code",
   "execution_count": 50,
   "metadata": {},
   "outputs": [
    {
     "name": "stdout",
     "output_type": "stream",
     "text": [
      "00000000 0\n",
      "00000001 1\n",
      "00000010 2\n",
      "00000011 3\n",
      "00000100 4\n",
      "00000101 5\n",
      "00000110 6\n",
      "00000111 7\n",
      "00001000 8\n",
      "00001001 9\n",
      "00001010 10\n",
      "00001011 11\n",
      "00001100 12\n",
      "00001101 13\n",
      "00001110 14\n",
      "00001111 15\n",
      "00010000 16\n",
      "00010001 17\n",
      "00010010 18\n",
      "00010011 19\n",
      "00010100 20\n"
     ]
    }
   ],
   "source": [
    "i = 0\n",
    "str1 = \"\"\n",
    "while i <= 20:\n",
    "    str1 = str(i)\n",
    "    print(decimal_to_binary(str1), i)\n",
    "    i = i + 1"
   ]
  },
  {
   "cell_type": "code",
   "execution_count": 6,
   "metadata": {},
   "outputs": [
    {
     "data": {
      "text/plain": [
       "'111100'"
      ]
     },
     "execution_count": 6,
     "metadata": {},
     "output_type": "execute_result"
    }
   ],
   "source": [
    "decimal_to_binary(binary_to_decimal(\"111100\"))"
   ]
  },
  {
   "cell_type": "markdown",
   "metadata": {},
   "source": [
    "## Преобразование из десятичной в восьмиричную"
   ]
  },
  {
   "cell_type": "code",
   "execution_count": 7,
   "metadata": {},
   "outputs": [],
   "source": [
    "def decimal_to_octal(decimal):\n",
    "    size = len(decimal)\n",
    "    decimal = int(decimal)\n",
    "    s = \"\"\n",
    "    i = 0\n",
    "    while i <= 5:\n",
    "        s = s + str((decimal%8))\n",
    "        decimal = decimal//8\n",
    "        i = i + 1\n",
    "    return rewerse(s)"
   ]
  },
  {
   "cell_type": "code",
   "execution_count": 12,
   "metadata": {},
   "outputs": [
    {
     "data": {
      "text/plain": [
       "'000014'"
      ]
     },
     "execution_count": 12,
     "metadata": {},
     "output_type": "execute_result"
    }
   ],
   "source": [
    "decimal_to_octal(\"12\")"
   ]
  },
  {
   "cell_type": "markdown",
   "metadata": {},
   "source": [
    "## Преобразование из десятичной в шестнадцатеричную"
   ]
  },
  {
   "cell_type": "code",
   "execution_count": 16,
   "metadata": {},
   "outputs": [],
   "source": [
    "def decimal_to_hexadecima(decimal):\n",
    "    size = len(decimal)\n",
    "    decimal = int(decimal)\n",
    "    s = \"\"\n",
    "    i = 0\n",
    "    while i <= 5:\n",
    "        num = decimal%16\n",
    "        if num == 10:\n",
    "            s = s + \"A\"\n",
    "        elif num == 11:\n",
    "            s = s + \"B\"\n",
    "        elif num == 12:\n",
    "            s = s + \"C\"\n",
    "        elif num == 13:\n",
    "            s = s + \"D\"\n",
    "        elif num == 14:\n",
    "            s = s + \"E\"\n",
    "        elif num == 15:\n",
    "            s = s + \"F\"\n",
    "        elif num:\n",
    "            s = s + str(num)\n",
    "        decimal = decimal//16\n",
    "        i = i + 1\n",
    "    return rewerse(s)"
   ]
  },
  {
   "cell_type": "code",
   "execution_count": 21,
   "metadata": {},
   "outputs": [
    {
     "data": {
      "text/plain": [
       "'7B'"
      ]
     },
     "execution_count": 21,
     "metadata": {},
     "output_type": "execute_result"
    }
   ],
   "source": [
    "decimal_to_hexadecima(\"123\")"
   ]
  },
  {
   "cell_type": "code",
   "execution_count": 34,
   "metadata": {},
   "outputs": [
    {
     "data": {
      "text/plain": [
       "3"
      ]
     },
     "execution_count": 34,
     "metadata": {},
     "output_type": "execute_result"
    }
   ],
   "source": [
    "max_r(8)"
   ]
  },
  {
   "cell_type": "code",
   "execution_count": null,
   "metadata": {},
   "outputs": [],
   "source": []
  }
 ],
 "metadata": {
  "kernelspec": {
   "display_name": "Python 3",
   "language": "python",
   "name": "python3"
  }
 },
 "nbformat": 4,
 "nbformat_minor": 2
}
